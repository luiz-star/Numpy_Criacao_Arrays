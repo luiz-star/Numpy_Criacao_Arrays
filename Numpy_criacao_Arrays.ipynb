{
  "nbformat": 4,
  "nbformat_minor": 0,
  "metadata": {
    "colab": {
      "name": "Numpy_criacao_Arrays.ipynb",
      "provenance": [],
      "authorship_tag": "ABX9TyO7CnJHuKyNRXWtacrQOJmq",
      "include_colab_link": true
    },
    "kernelspec": {
      "name": "python3",
      "display_name": "Python 3"
    },
    "language_info": {
      "name": "python"
    }
  },
  "cells": [
    {
      "cell_type": "markdown",
      "metadata": {
        "id": "view-in-github",
        "colab_type": "text"
      },
      "source": [
        "<a href=\"https://colab.research.google.com/github/luiz-star/Numpy_Criacao_Arrays/blob/main/Numpy_criacao_Arrays.ipynb\" target=\"_parent\"><img src=\"https://colab.research.google.com/assets/colab-badge.svg\" alt=\"Open In Colab\"/></a>"
      ]
    },
    {
      "cell_type": "markdown",
      "metadata": {
        "id": "ZUYe13jCToEe"
      },
      "source": [
        "# NUMPY"
      ]
    },
    {
      "cell_type": "code",
      "metadata": {
        "id": "JKTWa-0sTmW_"
      },
      "source": [
        "# importando as Bibliotecas\n",
        "import numpy as np"
      ],
      "execution_count": null,
      "outputs": []
    },
    {
      "cell_type": "markdown",
      "metadata": {
        "id": "apSQv13uUAg7"
      },
      "source": [
        "# Criação de Arrays"
      ]
    },
    {
      "cell_type": "code",
      "metadata": {
        "colab": {
          "base_uri": "https://localhost:8080/"
        },
        "id": "djl791F1T3Bm",
        "outputId": "d8a01ae4-fb08-4951-9926-623bf2f3afd5"
      },
      "source": [
        "help(np.array)"
      ],
      "execution_count": null,
      "outputs": [
        {
          "output_type": "stream",
          "text": [
            "Help on built-in function array in module numpy:\n",
            "\n",
            "array(...)\n",
            "    array(object, dtype=None, *, copy=True, order='K', subok=False, ndmin=0)\n",
            "    \n",
            "    Create an array.\n",
            "    \n",
            "    Parameters\n",
            "    ----------\n",
            "    object : array_like\n",
            "        An array, any object exposing the array interface, an object whose\n",
            "        __array__ method returns an array, or any (nested) sequence.\n",
            "    dtype : data-type, optional\n",
            "        The desired data-type for the array.  If not given, then the type will\n",
            "        be determined as the minimum type required to hold the objects in the\n",
            "        sequence.\n",
            "    copy : bool, optional\n",
            "        If true (default), then the object is copied.  Otherwise, a copy will\n",
            "        only be made if __array__ returns a copy, if obj is a nested sequence,\n",
            "        or if a copy is needed to satisfy any of the other requirements\n",
            "        (`dtype`, `order`, etc.).\n",
            "    order : {'K', 'A', 'C', 'F'}, optional\n",
            "        Specify the memory layout of the array. If object is not an array, the\n",
            "        newly created array will be in C order (row major) unless 'F' is\n",
            "        specified, in which case it will be in Fortran order (column major).\n",
            "        If object is an array the following holds.\n",
            "    \n",
            "        ===== ========= ===================================================\n",
            "        order  no copy                     copy=True\n",
            "        ===== ========= ===================================================\n",
            "        'K'   unchanged F & C order preserved, otherwise most similar order\n",
            "        'A'   unchanged F order if input is F and not C, otherwise C order\n",
            "        'C'   C order   C order\n",
            "        'F'   F order   F order\n",
            "        ===== ========= ===================================================\n",
            "    \n",
            "        When ``copy=False`` and a copy is made for other reasons, the result is\n",
            "        the same as if ``copy=True``, with some exceptions for `A`, see the\n",
            "        Notes section. The default order is 'K'.\n",
            "    subok : bool, optional\n",
            "        If True, then sub-classes will be passed-through, otherwise\n",
            "        the returned array will be forced to be a base-class array (default).\n",
            "    ndmin : int, optional\n",
            "        Specifies the minimum number of dimensions that the resulting\n",
            "        array should have.  Ones will be pre-pended to the shape as\n",
            "        needed to meet this requirement.\n",
            "    \n",
            "    Returns\n",
            "    -------\n",
            "    out : ndarray\n",
            "        An array object satisfying the specified requirements.\n",
            "    \n",
            "    See Also\n",
            "    --------\n",
            "    empty_like : Return an empty array with shape and type of input.\n",
            "    ones_like : Return an array of ones with shape and type of input.\n",
            "    zeros_like : Return an array of zeros with shape and type of input.\n",
            "    full_like : Return a new array with shape of input filled with value.\n",
            "    empty : Return a new uninitialized array.\n",
            "    ones : Return a new array setting values to one.\n",
            "    zeros : Return a new array setting values to zero.\n",
            "    full : Return a new array of given shape filled with value.\n",
            "    \n",
            "    \n",
            "    Notes\n",
            "    -----\n",
            "    When order is 'A' and `object` is an array in neither 'C' nor 'F' order,\n",
            "    and a copy is forced by a change in dtype, then the order of the result is\n",
            "    not necessarily 'C' as expected. This is likely a bug.\n",
            "    \n",
            "    Examples\n",
            "    --------\n",
            "    >>> np.array([1, 2, 3])\n",
            "    array([1, 2, 3])\n",
            "    \n",
            "    Upcasting:\n",
            "    \n",
            "    >>> np.array([1, 2, 3.0])\n",
            "    array([ 1.,  2.,  3.])\n",
            "    \n",
            "    More than one dimension:\n",
            "    \n",
            "    >>> np.array([[1, 2], [3, 4]])\n",
            "    array([[1, 2],\n",
            "           [3, 4]])\n",
            "    \n",
            "    Minimum dimensions 2:\n",
            "    \n",
            "    >>> np.array([1, 2, 3], ndmin=2)\n",
            "    array([[1, 2, 3]])\n",
            "    \n",
            "    Type provided:\n",
            "    \n",
            "    >>> np.array([1, 2, 3], dtype=complex)\n",
            "    array([ 1.+0.j,  2.+0.j,  3.+0.j])\n",
            "    \n",
            "    Data-type consisting of more than one element:\n",
            "    \n",
            "    >>> x = np.array([(1,2),(3,4)],dtype=[('a','<i4'),('b','<i4')])\n",
            "    >>> x['a']\n",
            "    array([1, 3])\n",
            "    \n",
            "    Creating an array from sub-classes:\n",
            "    \n",
            "    >>> np.array(np.mat('1 2; 3 4'))\n",
            "    array([[1, 2],\n",
            "           [3, 4]])\n",
            "    \n",
            "    >>> np.array(np.mat('1 2; 3 4'), subok=True)\n",
            "    matrix([[1, 2],\n",
            "            [3, 4]])\n",
            "\n"
          ],
          "name": "stdout"
        }
      ]
    },
    {
      "cell_type": "code",
      "metadata": {
        "colab": {
          "base_uri": "https://localhost:8080/"
        },
        "id": "cGpJP4YpT3MD",
        "outputId": "2dd822c3-4bc2-4760-bb21-efc398a27b2d"
      },
      "source": [
        "#criação de um array 1 D: [1, 2, 3]\n",
        "l = [1, 2, 3]\n",
        "x = np.array(l)\n",
        "print('x:', x) \n",
        "print('shape:', x.shape)"
      ],
      "execution_count": null,
      "outputs": [
        {
          "output_type": "stream",
          "text": [
            "x: [1 2 3]\n",
            "shape: (3,)\n"
          ],
          "name": "stdout"
        }
      ]
    },
    {
      "cell_type": "code",
      "metadata": {
        "colab": {
          "base_uri": "https://localhost:8080/"
        },
        "id": "ZmiSQNLVT3QD",
        "outputId": "4fcc2489-377a-4a69-ff9e-2a5bb132f7b7"
      },
      "source": [
        "#criação de um array 2 D: listas aninhadas\n",
        "l = [[1, 2],[3, 4]]\n",
        "x = np.array(l)\n",
        "print('x:\\n', x)\n",
        "print('shape:', x.shape)\n"
      ],
      "execution_count": null,
      "outputs": [
        {
          "output_type": "stream",
          "text": [
            "x:\n",
            " [[1 2]\n",
            " [3 4]]\n",
            "shape: (2, 2)\n"
          ],
          "name": "stdout"
        }
      ]
    },
    {
      "cell_type": "code",
      "metadata": {
        "colab": {
          "base_uri": "https://localhost:8080/"
        },
        "id": "IXSOEb9QT3UM",
        "outputId": "451a9bd9-cb01-4f64-a509-3a01d3c1a9d5"
      },
      "source": [
        "#array contendo apenas 0's\n",
        "dim = (2, 2)  # linhas e colunas\n",
        "x = np.zeros(dim)\n",
        "print('x:\\n', x)\n",
        "print('shape:', x.shape)"
      ],
      "execution_count": null,
      "outputs": [
        {
          "output_type": "stream",
          "text": [
            "x:\n",
            " [[0. 0.]\n",
            " [0. 0.]]\n",
            "shape: (2, 2)\n"
          ],
          "name": "stdout"
        }
      ]
    },
    {
      "cell_type": "code",
      "metadata": {
        "colab": {
          "base_uri": "https://localhost:8080/"
        },
        "id": "yREwS9jfT3Xt",
        "outputId": "e98800ee-2829-46cb-8fa2-2a1d2e4335a5"
      },
      "source": [
        "#array contendo apenas 1's\n",
        "size = (2, 2)  #linhas e colunas\n",
        "x = np.ones(size)\n",
        "print('x:\\n', x)\n",
        "print('shape:', x.shape)"
      ],
      "execution_count": null,
      "outputs": [
        {
          "output_type": "stream",
          "text": [
            "x:\n",
            " [[1. 1.]\n",
            " [1. 1.]]\n",
            "shape: (2, 2)\n"
          ],
          "name": "stdout"
        }
      ]
    },
    {
      "cell_type": "code",
      "metadata": {
        "colab": {
          "base_uri": "https://localhost:8080/"
        },
        "id": "qAQbMqyPX6xe",
        "outputId": "a6d43405-9748-49f5-8991-6e44e1454e68"
      },
      "source": [
        "type(x)"
      ],
      "execution_count": null,
      "outputs": [
        {
          "output_type": "execute_result",
          "data": {
            "text/plain": [
              "numpy.ndarray"
            ]
          },
          "metadata": {
            "tags": []
          },
          "execution_count": 34
        }
      ]
    },
    {
      "cell_type": "code",
      "metadata": {
        "colab": {
          "base_uri": "https://localhost:8080/"
        },
        "id": "uVedb_kwX69E",
        "outputId": "afae379c-27f2-4d67-c04d-21f2603d0305"
      },
      "source": [
        "#criação de valores dentro de um intervalo\n",
        "\n",
        "# valores uniformes entre 5 e 15\n",
        "x_min, x_max = 5, 15\n",
        "x = np.linspace(start=x_min, stop=x_max, num=6)\n",
        "print('x:', x)\n",
        "print('shape:', x.shape)"
      ],
      "execution_count": null,
      "outputs": [
        {
          "output_type": "stream",
          "text": [
            "x: [ 5.  7.  9. 11. 13. 15.]\n",
            "shape: (6,)\n"
          ],
          "name": "stdout"
        }
      ]
    },
    {
      "cell_type": "code",
      "metadata": {
        "id": "YPVGps4Oavs0"
      },
      "source": [
        "np.linspace?"
      ],
      "execution_count": null,
      "outputs": []
    },
    {
      "cell_type": "code",
      "metadata": {
        "colab": {
          "base_uri": "https://localhost:8080/"
        },
        "id": "nSZ6Ggr9YK3G",
        "outputId": "8e9e6108-fb6c-4d21-8066-855a43d5d40a"
      },
      "source": [
        "#criação de matriz identidade\n",
        "n = 4\n",
        "x = np.eye(n)\n",
        "print('x:\\n', x)\n",
        "print('shape:', x.shape)"
      ],
      "execution_count": null,
      "outputs": [
        {
          "output_type": "stream",
          "text": [
            "x:\n",
            " [[1. 0. 0. 0.]\n",
            " [0. 1. 0. 0.]\n",
            " [0. 0. 1. 0.]\n",
            " [0. 0. 0. 1.]]\n",
            "shape: (4, 4)\n"
          ],
          "name": "stdout"
        }
      ]
    },
    {
      "cell_type": "code",
      "metadata": {
        "colab": {
          "base_uri": "https://localhost:8080/"
        },
        "id": "OeeexxrDYK8B",
        "outputId": "4d96cba7-d898-4306-a0ee-77fe66a19c41"
      },
      "source": [
        "# criação de valores aleatórios\n",
        "# np.random.seed(10)\n",
        "x = np.random.random(size=(2, 3))\n",
        "print('x:\\n', x)\n",
        "print('shape:', x.shape)"
      ],
      "execution_count": null,
      "outputs": [
        {
          "output_type": "stream",
          "text": [
            "x:\n",
            " [[0.24141295 0.5350477  0.05063852]\n",
            " [0.11342032 0.12805938 0.02735293]]\n",
            "shape: (2, 3)\n"
          ],
          "name": "stdout"
        }
      ]
    },
    {
      "cell_type": "markdown",
      "metadata": {
        "id": "JACKKSmka5Rd"
      },
      "source": [
        "# Indexação de arrays"
      ]
    },
    {
      "cell_type": "code",
      "metadata": {
        "colab": {
          "base_uri": "https://localhost:8080/"
        },
        "id": "1n475QOPX7BE",
        "outputId": "600a871c-f15e-4acd-a3e5-d624e204957c"
      },
      "source": [
        "# Os indices no Python vão de 0 a n-1\n",
        "# onde n é o tamanho da dimensão\n",
        "x = np.linspace(start=10, stop=100, num=10)\n",
        "print('x:', x)\n",
        "print('shape:', x.shape)"
      ],
      "execution_count": null,
      "outputs": [
        {
          "output_type": "stream",
          "text": [
            "x: [ 10.  20.  30.  40.  50.  60.  70.  80.  90. 100.]\n",
            "shape: (10,)\n"
          ],
          "name": "stdout"
        }
      ]
    },
    {
      "cell_type": "code",
      "metadata": {
        "colab": {
          "base_uri": "https://localhost:8080/"
        },
        "id": "Um6w3nclcJ0t",
        "outputId": "4010811d-eef9-4142-d270-fa97c13969e2"
      },
      "source": [
        "# Extração de elementos\n",
        "print('x:', x)\n",
        "print('primeiro elemento:', x[0])\n",
        "print('segundo elemento:', x[1])\n",
        "print('ultimo elemento:', x[9])\n",
        "print('ultimo elemento:', x[-1]) # acessar de trás para frente"
      ],
      "execution_count": null,
      "outputs": [
        {
          "output_type": "stream",
          "text": [
            "x: [ 10.  20.  30.  40.  50.  60.  70.  80.  90. 100.]\n",
            "primeiro elemento: 10.0\n",
            "segundo elemento: 20.0\n",
            "ultimo elemento: 100.0\n",
            "ultimo elemento: 100.0\n"
          ],
          "name": "stdout"
        }
      ]
    },
    {
      "cell_type": "code",
      "metadata": {
        "colab": {
          "base_uri": "https://localhost:8080/"
        },
        "id": "zXv_ZeLedh9K",
        "outputId": "e4a57987-15cb-4630-fdb2-cb0d9e66cf5b"
      },
      "source": [
        "x[-5]  # acessando um elemento especifico "
      ],
      "execution_count": null,
      "outputs": [
        {
          "output_type": "execute_result",
          "data": {
            "text/plain": [
              "60.0"
            ]
          },
          "metadata": {
            "tags": []
          },
          "execution_count": 41
        }
      ]
    },
    {
      "cell_type": "code",
      "metadata": {
        "colab": {
          "base_uri": "https://localhost:8080/"
        },
        "id": "R64lFp6Wd7gO",
        "outputId": "99c84c7c-17e6-4208-d5b9-dff4f9ecd756"
      },
      "source": [
        "# slicing extração de subarrays:\n",
        "print('x:', x)\n",
        "print('dois primeiros elementos:', x[0:2]) # 2 é exclusivo\n",
        "print( 'dois primeiros elementos:', x[:2])\n",
        "print('dois ultimos elementos:', x[-2:]) "
      ],
      "execution_count": null,
      "outputs": [
        {
          "output_type": "stream",
          "text": [
            "x: [ 10.  20.  30.  40.  50.  60.  70.  80.  90. 100.]\n",
            "dois primeiros elementos: [10. 20.]\n",
            "dois primeiros elementos: [10. 20.]\n",
            "dois ultimos elementos: [ 90. 100.]\n"
          ],
          "name": "stdout"
        }
      ]
    },
    {
      "cell_type": "code",
      "metadata": {
        "colab": {
          "base_uri": "https://localhost:8080/"
        },
        "id": "WtgN7gUcfBoR",
        "outputId": "df2abc81-46f0-463a-e2cf-8dad0cf67dbb"
      },
      "source": [
        "x[8:]"
      ],
      "execution_count": null,
      "outputs": [
        {
          "output_type": "execute_result",
          "data": {
            "text/plain": [
              "array([ 90., 100.])"
            ]
          },
          "metadata": {
            "tags": []
          },
          "execution_count": 43
        }
      ]
    },
    {
      "cell_type": "code",
      "metadata": {
        "colab": {
          "base_uri": "https://localhost:8080/"
        },
        "id": "rMKd0mI0cJ4N",
        "outputId": "280fb008-2c03-4091-9652-0b9a1e2edde0"
      },
      "source": [
        "#slicing em arrays 2D (matrizes) \n",
        "x = x.reshape(2, 5)   # Reshape de x para 2 linhas e 5 colunas\n",
        "print('x:', x)"
      ],
      "execution_count": null,
      "outputs": [
        {
          "output_type": "stream",
          "text": [
            "x: [[ 10.  20.  30.  40.  50.]\n",
            " [ 60.  70.  80.  90. 100.]]\n"
          ],
          "name": "stdout"
        }
      ]
    },
    {
      "cell_type": "code",
      "metadata": {
        "colab": {
          "base_uri": "https://localhost:8080/"
        },
        "id": "U9tj2XJaaqgs",
        "outputId": "4a230afc-9f40-4ffa-ebaa-cd4d6bf5cae7"
      },
      "source": [
        "# extração de elementos\n",
        "print('primeira linha, segunda coluna:', x[0, 1])\n",
        "print('segunda linha, penultima coluna:', x[1, -2])\n",
        "print('ultima linha, ultima coluna:', x[1, 4])\n",
        "print('ultima linha, ultima coluna:', x[-1, -1])\n",
        "\n",
        "\n"
      ],
      "execution_count": null,
      "outputs": [
        {
          "output_type": "stream",
          "text": [
            "primeira linha, segunda coluna: 20.0\n",
            "segunda linha, penultima coluna: 90.0\n",
            "ultima linha, ultima coluna: 100.0\n",
            "ultima linha, ultima coluna: 100.0\n"
          ],
          "name": "stdout"
        }
      ]
    },
    {
      "cell_type": "code",
      "metadata": {
        "colab": {
          "base_uri": "https://localhost:8080/"
        },
        "id": "pe6JdxxWklH-",
        "outputId": "3be90769-1690-4227-d8c3-2eee0c3a40d2"
      },
      "source": [
        "print(x[1, 0])"
      ],
      "execution_count": null,
      "outputs": [
        {
          "output_type": "stream",
          "text": [
            "60.0\n"
          ],
          "name": "stdout"
        }
      ]
    },
    {
      "cell_type": "code",
      "metadata": {
        "colab": {
          "base_uri": "https://localhost:8080/"
        },
        "id": "81-wNCvOaqkP",
        "outputId": "f3d73a6b-a9ca-441c-e70a-20a7d78847e2"
      },
      "source": [
        "# slicing extração de subarrays\n",
        "print('x:', x)\n",
        "print('primeira linha inteira:', x[0, :])\n",
        "print('primeira linha, segunda a quarta coluna:', x[0, 1:4])\n",
        "print('ultima coluna inteira:\\n', x[:, [-1]])"
      ],
      "execution_count": null,
      "outputs": [
        {
          "output_type": "stream",
          "text": [
            "x: [[ 10.  20.  30.  40.  50.]\n",
            " [ 60.  70.  80.  90. 100.]]\n",
            "primeira linha inteira: [10. 20. 30. 40. 50.]\n",
            "primeira linha, segunda a quarta coluna: [20. 30. 40.]\n",
            "ultima coluna inteira:\n",
            " [[ 50.]\n",
            " [100.]]\n"
          ],
          "name": "stdout"
        }
      ]
    },
    {
      "cell_type": "code",
      "metadata": {
        "colab": {
          "base_uri": "https://localhost:8080/"
        },
        "id": "_TBb1tWji7Jx",
        "outputId": "8c562178-c59b-43e5-a47a-5daaa30f035d"
      },
      "source": [
        "# Atenção com compartilhamento de memória em subarrays!!!\n",
        "x = np.array([1, 2, 3])\n",
        "print('x antes:', x)\n",
        "\n",
        "y = x[:2]\n",
        "y[0] = -100   # alteração do valor em y altera o valor em x\n",
        "print('x depois:', x)"
      ],
      "execution_count": null,
      "outputs": [
        {
          "output_type": "stream",
          "text": [
            "x antes: [1 2 3]\n",
            "x depois: [-100    2    3]\n"
          ],
          "name": "stdout"
        }
      ]
    },
    {
      "cell_type": "code",
      "metadata": {
        "colab": {
          "base_uri": "https://localhost:8080/"
        },
        "id": "c7aESjFXkVC3",
        "outputId": "84be34b9-286c-449f-bb4c-6cb91c37cad4"
      },
      "source": [
        "# Atenção com compartilhamento de memória em subarrays!!!\n",
        "x = np.array([1, 2, 3])\n",
        "print('x antes:', x)\n",
        "\n",
        "y = x[:2].copy()\n",
        "y[0] = -100    # alteração do valor em y altera o valor de x\n",
        "print('x depois:', x)"
      ],
      "execution_count": null,
      "outputs": [
        {
          "output_type": "stream",
          "text": [
            "x antes: [1 2 3]\n",
            "x depois: [1 2 3]\n"
          ],
          "name": "stdout"
        }
      ]
    },
    {
      "cell_type": "code",
      "metadata": {
        "id": "59rO3-94mZM-"
      },
      "source": [
        ""
      ],
      "execution_count": null,
      "outputs": []
    }
  ]
}